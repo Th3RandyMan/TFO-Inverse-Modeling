{
 "cells": [
  {
   "cell_type": "markdown",
   "metadata": {},
   "source": [
    "# Get started with inverse modeling"
   ]
  },
  {
   "cell_type": "markdown",
   "metadata": {},
   "source": [
    "Establish view on root directory and set GPU."
   ]
  },
  {
   "cell_type": "code",
   "execution_count": 1,
   "metadata": {},
   "outputs": [],
   "source": [
    "import sys\n",
    "import os\n",
    "\n",
    "# Set path to root directory\n",
    "sys.path.append(r'/home/rlfowler/Documents/research/tfo_inverse_modelling')\n",
    "\n",
    "# Set my GPU\n",
    "os.environ[\"CUDA_VISIBLE_DEVICES\"] = \"2\""
   ]
  },
  {
   "cell_type": "markdown",
   "metadata": {},
   "source": [
    "## Read in Data"
   ]
  },
  {
   "cell_type": "code",
   "execution_count": 2,
   "metadata": {},
   "outputs": [
    {
     "name": "stdout",
     "output_type": "stream",
     "text": [
      "(35929014, 47)\n"
     ]
    },
    {
     "data": {
      "text/html": [
       "<div>\n",
       "<style scoped>\n",
       "    .dataframe tbody tr th:only-of-type {\n",
       "        vertical-align: middle;\n",
       "    }\n",
       "\n",
       "    .dataframe tbody tr th {\n",
       "        vertical-align: top;\n",
       "    }\n",
       "\n",
       "    .dataframe thead th {\n",
       "        text-align: right;\n",
       "    }\n",
       "</style>\n",
       "<table border=\"1\" class=\"dataframe\">\n",
       "  <thead>\n",
       "    <tr style=\"text-align: right;\">\n",
       "      <th></th>\n",
       "      <th>Maternal Wall Thickness</th>\n",
       "      <th>Fetal Radius</th>\n",
       "      <th>Fetal Displacement</th>\n",
       "      <th>Maternal Hb Concentration</th>\n",
       "      <th>Maternal Saturation</th>\n",
       "      <th>Fetal Hb Concentration</th>\n",
       "      <th>Fetal Saturation</th>\n",
       "      <th>10.0_1.0</th>\n",
       "      <th>15.0_1.0</th>\n",
       "      <th>19.0_1.0</th>\n",
       "      <th>...</th>\n",
       "      <th>55.0_2.0</th>\n",
       "      <th>59.0_2.0</th>\n",
       "      <th>64.0_2.0</th>\n",
       "      <th>68.0_2.0</th>\n",
       "      <th>72.0_2.0</th>\n",
       "      <th>77.0_2.0</th>\n",
       "      <th>81.0_2.0</th>\n",
       "      <th>86.0_2.0</th>\n",
       "      <th>90.0_2.0</th>\n",
       "      <th>94.0_2.0</th>\n",
       "    </tr>\n",
       "  </thead>\n",
       "  <tbody>\n",
       "    <tr>\n",
       "      <th>43923</th>\n",
       "      <td>2.0</td>\n",
       "      <td>50.0</td>\n",
       "      <td>5.0</td>\n",
       "      <td>11.0</td>\n",
       "      <td>0.9</td>\n",
       "      <td>10.725</td>\n",
       "      <td>0.10</td>\n",
       "      <td>0.000041</td>\n",
       "      <td>0.000005</td>\n",
       "      <td>0.000001</td>\n",
       "      <td>...</td>\n",
       "      <td>6.001589e-15</td>\n",
       "      <td>5.848743e-15</td>\n",
       "      <td>2.763929e-16</td>\n",
       "      <td>1.500358e-17</td>\n",
       "      <td>3.398607e-18</td>\n",
       "      <td>1.015295e-18</td>\n",
       "      <td>7.130597e-20</td>\n",
       "      <td>8.710054e-22</td>\n",
       "      <td>4.012456e-20</td>\n",
       "      <td>2.355748e-22</td>\n",
       "    </tr>\n",
       "    <tr>\n",
       "      <th>43924</th>\n",
       "      <td>2.0</td>\n",
       "      <td>50.0</td>\n",
       "      <td>5.0</td>\n",
       "      <td>11.0</td>\n",
       "      <td>0.9</td>\n",
       "      <td>10.725</td>\n",
       "      <td>0.15</td>\n",
       "      <td>0.000041</td>\n",
       "      <td>0.000005</td>\n",
       "      <td>0.000001</td>\n",
       "      <td>...</td>\n",
       "      <td>5.893694e-15</td>\n",
       "      <td>5.768395e-15</td>\n",
       "      <td>2.710312e-16</td>\n",
       "      <td>1.463642e-17</td>\n",
       "      <td>3.212955e-18</td>\n",
       "      <td>9.575111e-19</td>\n",
       "      <td>6.831444e-20</td>\n",
       "      <td>8.155644e-22</td>\n",
       "      <td>3.835888e-20</td>\n",
       "      <td>2.151092e-22</td>\n",
       "    </tr>\n",
       "    <tr>\n",
       "      <th>43925</th>\n",
       "      <td>2.0</td>\n",
       "      <td>50.0</td>\n",
       "      <td>5.0</td>\n",
       "      <td>11.0</td>\n",
       "      <td>0.9</td>\n",
       "      <td>10.725</td>\n",
       "      <td>0.20</td>\n",
       "      <td>0.000041</td>\n",
       "      <td>0.000005</td>\n",
       "      <td>0.000001</td>\n",
       "      <td>...</td>\n",
       "      <td>5.789363e-15</td>\n",
       "      <td>5.689761e-15</td>\n",
       "      <td>2.658178e-16</td>\n",
       "      <td>1.428727e-17</td>\n",
       "      <td>3.039417e-18</td>\n",
       "      <td>9.030257e-19</td>\n",
       "      <td>6.545149e-20</td>\n",
       "      <td>7.646231e-22</td>\n",
       "      <td>3.667090e-20</td>\n",
       "      <td>1.964215e-22</td>\n",
       "    </tr>\n",
       "    <tr>\n",
       "      <th>43926</th>\n",
       "      <td>2.0</td>\n",
       "      <td>50.0</td>\n",
       "      <td>5.0</td>\n",
       "      <td>11.0</td>\n",
       "      <td>0.9</td>\n",
       "      <td>10.725</td>\n",
       "      <td>0.25</td>\n",
       "      <td>0.000041</td>\n",
       "      <td>0.000005</td>\n",
       "      <td>0.000001</td>\n",
       "      <td>...</td>\n",
       "      <td>5.688417e-15</td>\n",
       "      <td>5.612798e-15</td>\n",
       "      <td>2.607455e-16</td>\n",
       "      <td>1.395518e-17</td>\n",
       "      <td>2.877101e-18</td>\n",
       "      <td>8.516513e-19</td>\n",
       "      <td>6.271132e-20</td>\n",
       "      <td>7.177746e-22</td>\n",
       "      <td>3.505719e-20</td>\n",
       "      <td>1.793575e-22</td>\n",
       "    </tr>\n",
       "    <tr>\n",
       "      <th>43927</th>\n",
       "      <td>2.0</td>\n",
       "      <td>50.0</td>\n",
       "      <td>5.0</td>\n",
       "      <td>11.0</td>\n",
       "      <td>0.9</td>\n",
       "      <td>10.725</td>\n",
       "      <td>0.30</td>\n",
       "      <td>0.000041</td>\n",
       "      <td>0.000005</td>\n",
       "      <td>0.000001</td>\n",
       "      <td>...</td>\n",
       "      <td>5.590720e-15</td>\n",
       "      <td>5.537444e-15</td>\n",
       "      <td>2.558081e-16</td>\n",
       "      <td>1.363931e-17</td>\n",
       "      <td>2.725183e-18</td>\n",
       "      <td>8.032090e-19</td>\n",
       "      <td>6.008842e-20</td>\n",
       "      <td>6.746510e-22</td>\n",
       "      <td>3.351450e-20</td>\n",
       "      <td>1.637759e-22</td>\n",
       "    </tr>\n",
       "  </tbody>\n",
       "</table>\n",
       "<p>5 rows × 47 columns</p>\n",
       "</div>"
      ],
      "text/plain": [
       "       Maternal Wall Thickness  Fetal Radius  Fetal Displacement  \\\n",
       "43923                      2.0          50.0                 5.0   \n",
       "43924                      2.0          50.0                 5.0   \n",
       "43925                      2.0          50.0                 5.0   \n",
       "43926                      2.0          50.0                 5.0   \n",
       "43927                      2.0          50.0                 5.0   \n",
       "\n",
       "       Maternal Hb Concentration  Maternal Saturation  Fetal Hb Concentration  \\\n",
       "43923                       11.0                  0.9                  10.725   \n",
       "43924                       11.0                  0.9                  10.725   \n",
       "43925                       11.0                  0.9                  10.725   \n",
       "43926                       11.0                  0.9                  10.725   \n",
       "43927                       11.0                  0.9                  10.725   \n",
       "\n",
       "       Fetal Saturation  10.0_1.0  15.0_1.0  19.0_1.0  ...      55.0_2.0  \\\n",
       "43923              0.10  0.000041  0.000005  0.000001  ...  6.001589e-15   \n",
       "43924              0.15  0.000041  0.000005  0.000001  ...  5.893694e-15   \n",
       "43925              0.20  0.000041  0.000005  0.000001  ...  5.789363e-15   \n",
       "43926              0.25  0.000041  0.000005  0.000001  ...  5.688417e-15   \n",
       "43927              0.30  0.000041  0.000005  0.000001  ...  5.590720e-15   \n",
       "\n",
       "           59.0_2.0      64.0_2.0      68.0_2.0      72.0_2.0      77.0_2.0  \\\n",
       "43923  5.848743e-15  2.763929e-16  1.500358e-17  3.398607e-18  1.015295e-18   \n",
       "43924  5.768395e-15  2.710312e-16  1.463642e-17  3.212955e-18  9.575111e-19   \n",
       "43925  5.689761e-15  2.658178e-16  1.428727e-17  3.039417e-18  9.030257e-19   \n",
       "43926  5.612798e-15  2.607455e-16  1.395518e-17  2.877101e-18  8.516513e-19   \n",
       "43927  5.537444e-15  2.558081e-16  1.363931e-17  2.725183e-18  8.032090e-19   \n",
       "\n",
       "           81.0_2.0      86.0_2.0      90.0_2.0      94.0_2.0  \n",
       "43923  7.130597e-20  8.710054e-22  4.012456e-20  2.355748e-22  \n",
       "43924  6.831444e-20  8.155644e-22  3.835888e-20  2.151092e-22  \n",
       "43925  6.545149e-20  7.646231e-22  3.667090e-20  1.964215e-22  \n",
       "43926  6.271132e-20  7.177746e-22  3.505719e-20  1.793575e-22  \n",
       "43927  6.008842e-20  6.746510e-22  3.351450e-20  1.637759e-22  \n",
       "\n",
       "[5 rows x 47 columns]"
      ]
     },
     "execution_count": 2,
     "metadata": {},
     "output_type": "execute_result"
    }
   ],
   "source": [
    "import pandas as pd\n",
    "\n",
    "DATA_PATH = r'/home/rlfowler/Documents/research/tfo_inverse_modelling/Randalls Folder/data/randall_data_intensities.pkl'\n",
    "#CONFIG_PATH = r'/home/rlfowler/Documents/research/tfo_sim/data/compiled_intensity/randall_data.json'\n",
    "\n",
    "# Load the data\n",
    "data = pd.read_pickle(DATA_PATH)\n",
    "print(data.shape)\n",
    "data.head()"
   ]
  },
  {
   "cell_type": "markdown",
   "metadata": {},
   "source": [
    "### Select subset of data"
   ]
  },
  {
   "cell_type": "code",
   "execution_count": 3,
   "metadata": {},
   "outputs": [
    {
     "name": "stdout",
     "output_type": "stream",
     "text": [
      "Size of data: 35929014\n",
      "Maternal Wall Thickness(9): [ 2.  3.  4.  5.  6.  7.  8.  9. 10.]\n",
      "Fetal Radius(23): [ 50.  70.  90. 110. 130. 150. 170. 190. 210. 230. 250. 270. 290. 310.\n",
      " 330. 350. 370. 390. 410. 430. 450. 470. 490.]\n",
      "Fetal Displacement(9): [ 5. 15. 20. 25. 40. 10. 35.  0. 30.]\n",
      "Maternal Hb Concentration(11): [11.  11.5 12.  12.5 13.  13.5 14.  14.5 15.  15.5 16. ]\n",
      "Maternal Saturation(11): [0.9  0.91 0.92 0.93 0.94 0.95 0.96 0.97 0.98 0.99 1.  ]\n",
      "Fetal Hb Concentration(33): [10.725  11.     11.2125 11.275  11.5    11.7    11.7875 12.     12.1875\n",
      " 12.3    12.5    12.675  12.8125 13.     13.1625 13.325  13.5    13.65\n",
      " 13.8375 14.     14.1375 14.35   14.5    14.625  14.8625 15.     15.1125\n",
      " 15.375  15.5    15.6    15.8875 16.     16.4   ]\n",
      "Fetal Saturation(11): [0.1  0.15 0.2  0.25 0.3  0.35 0.4  0.45 0.5  0.55 0.6 ]\n"
     ]
    }
   ],
   "source": [
    "def print_columns(data):\n",
    "    size = data.shape[0]\n",
    "    print(f\"Size of data: {size}\")\n",
    "    for col in data.columns[:7]:\n",
    "        u = data[col].unique()\n",
    "        print(f\"{col}({len(u)}): {u}\")\n",
    "\n",
    "print_columns(data)"
   ]
  },
  {
   "cell_type": "code",
   "execution_count": 4,
   "metadata": {},
   "outputs": [
    {
     "name": "stdout",
     "output_type": "stream",
     "text": [
      "[11.  11.5 12.  12.5 13.  13.5 14.  14.5 15.  15.5 16. ]\n",
      "[ 50.  70.  90. 110. 130. 150. 170. 190. 210. 230. 250.]\n",
      "[0.9  0.92 0.94 0.96 0.98 1.  ]\n",
      "[11. 12. 13. 14. 15. 16.]\n"
     ]
    }
   ],
   "source": [
    "import numpy as np\n",
    "\n",
    "r1 = np.unique(data['Fetal Hb Concentration'])\n",
    "print(r1[1::3])\n",
    "r2 = np.unique(data['Fetal Radius'])[:11]\n",
    "print(r2)\n",
    "r3 = np.unique(data['Maternal Saturation'])[::2]\n",
    "print(r3)\n",
    "r4 = np.unique(data['Maternal Hb Concentration'])[::2]\n",
    "print(r4)"
   ]
  },
  {
   "cell_type": "code",
   "execution_count": 7,
   "metadata": {},
   "outputs": [
    {
     "name": "stdout",
     "output_type": "stream",
     "text": [
      "Reduced data by factor of 20.42: (1759824, 47)\n"
     ]
    }
   ],
   "source": [
    "filtered_data = data.loc[data['Fetal Hb Concentration'].isin(r1[1::3])]\n",
    "filtered_data = filtered_data.loc[filtered_data['Fetal Radius'].isin(r2)]\n",
    "filtered_data = filtered_data.loc[filtered_data['Maternal Saturation'].isin(r3)]\n",
    "filtered_data = filtered_data.loc[filtered_data['Maternal Hb Concentration'].isin(r4)]\n",
    "print(f\"Reduced data by factor of {data.shape[0]/filtered_data.shape[0]:0.2f}: {filtered_data.shape}\")\n",
    "data = filtered_data\n",
    "del filtered_data"
   ]
  },
  {
   "cell_type": "markdown",
   "metadata": {},
   "source": [
    "### Select output to predict"
   ]
  },
  {
   "cell_type": "code",
   "execution_count": 8,
   "metadata": {},
   "outputs": [
    {
     "name": "stdout",
     "output_type": "stream",
     "text": [
      "y_columns: ['Maternal Wall Thickness', 'Fetal Radius', 'Fetal Displacement', 'Maternal Hb Concentration', 'Maternal Saturation', 'Fetal Hb Concentration', 'Fetal Saturation']\n",
      "x_columns: ['10.0_1.0', '15.0_1.0', '19.0_1.0', '24.0_1.0', '28.0_1.0', '33.0_1.0', '37.0_1.0', '41.0_1.0', '46.0_1.0', '50.0_1.0', '55.0_1.0', '59.0_1.0', '64.0_1.0', '68.0_1.0', '72.0_1.0', '77.0_1.0', '81.0_1.0', '86.0_1.0', '90.0_1.0', '94.0_1.0', '10.0_2.0', '15.0_2.0', '19.0_2.0', '24.0_2.0', '28.0_2.0', '33.0_2.0', '37.0_2.0', '41.0_2.0', '46.0_2.0', '50.0_2.0', '55.0_2.0', '59.0_2.0', '64.0_2.0', '68.0_2.0', '72.0_2.0', '77.0_2.0', '81.0_2.0', '86.0_2.0', '90.0_2.0', '94.0_2.0']\n",
      "In Features : 40\n",
      "Out Features: 7\n"
     ]
    }
   ],
   "source": [
    "y_columns = data.columns[:7]#[\"Fetal Saturation\"]\n",
    "x_columns = data.columns[7:]\n",
    "print(f\"y_columns: {y_columns.tolist()}\")\n",
    "print(f\"x_columns: {x_columns.tolist()}\")\n",
    "IN_FEATURES = len(x_columns)\n",
    "OUT_FEATURES = len(y_columns)\n",
    "print(\"In Features :\", IN_FEATURES)  \n",
    "print(\"Out Features:\", OUT_FEATURES)"
   ]
  }
 ],
 "metadata": {
  "kernelspec": {
   "display_name": ".venv",
   "language": "python",
   "name": "python3"
  },
  "language_info": {
   "codemirror_mode": {
    "name": "ipython",
    "version": 3
   },
   "file_extension": ".py",
   "mimetype": "text/x-python",
   "name": "python",
   "nbconvert_exporter": "python",
   "pygments_lexer": "ipython3",
   "version": "3.9.5"
  }
 },
 "nbformat": 4,
 "nbformat_minor": 2
}
